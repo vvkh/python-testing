{
 "cells": [
  {
   "cell_type": "markdown",
   "id": "noted-peace",
   "metadata": {},
   "source": [
    "# Тестирование в Python\n",
    "\n",
    "## Зачем нам нужны тесты?\n",
    "\n",
    "Реализуем функцию, которая определяет, является ли число простым."
   ]
  },
  {
   "cell_type": "code",
   "execution_count": 3,
   "id": "scientific-pointer",
   "metadata": {},
   "outputs": [],
   "source": [
    "def is_prime(number):\n",
    "    for divisor in range(2, number):\n",
    "        if number % divisor == 0:\n",
    "            return False\n",
    "    return True"
   ]
  },
  {
   "cell_type": "markdown",
   "id": "patent-shade",
   "metadata": {},
   "source": [
    "Как доказать, что этот код работает корректно?"
   ]
  },
  {
   "cell_type": "code",
   "execution_count": 1,
   "id": "complete-category",
   "metadata": {},
   "outputs": [
    {
     "name": "stdout",
     "output_type": "stream",
     "text": [
      "— Проверить на всех возможных входных данных невозможно.\r\n",
      "— Доказать математически можно, но практически сложно по мере усложнения программ.\r\n",
      "— Мы можем перейти от математике к научному подходу: провести некоторое количество опытов, пока не будем достаточно уверены в результате.\r\n",
      "— Никогда нельзя быть уверенным в том, что в программе отсутствуют дефекты."
     ]
    }
   ],
   "source": [
    "!cat demo/01-why-testing/why_testing.txt"
   ]
  },
  {
   "cell_type": "markdown",
   "id": "native-allen",
   "metadata": {},
   "source": [
    "## Автотесты — это программы, которые тестируют программы"
   ]
  },
  {
   "cell_type": "code",
   "execution_count": 7,
   "id": "valid-parameter",
   "metadata": {},
   "outputs": [],
   "source": [
    "if not is_prime(3):\n",
    "    print('error! 3 must be prime')\n",
    "\n",
    "if not is_prime(5):\n",
    "    print('error! 5 must be prime')\n",
    "\n",
    "if not is_prime(7):\n",
    "    print('error! 7 must be prime')"
   ]
  },
  {
   "cell_type": "markdown",
   "id": "complimentary-corrections",
   "metadata": {},
   "source": [
    "Тесты — это всегда попытки «сломать» наш код. Чем больше мы делаем попыток что-то сломать, тем выше наша уверенность в корректности кода."
   ]
  },
  {
   "cell_type": "markdown",
   "id": "african-excitement",
   "metadata": {},
   "source": [
    "## Как выбрать данные для тестирования?"
   ]
  },
  {
   "cell_type": "markdown",
   "id": "induced-diamond",
   "metadata": {},
   "source": [
    "Классы эквивалентности — множества «однородных» входных данных, на них наша программа вероятнее всего будет работать одинаково. \n",
    "Обычно дефекты возникают на границах этих множеств."
   ]
  },
  {
   "cell_type": "code",
   "execution_count": 8,
   "id": "fewer-immigration",
   "metadata": {},
   "outputs": [
    {
     "name": "stdout",
     "output_type": "stream",
     "text": [
      "Для алгоритма определения простых чисел:\r\n",
      "— Четные числа — всегда не простые.\r\n",
      "— Положительные простые числа — всегда простые.\r\n",
      "— Положительные непростые числа — всегда простые.\r\n",
      "— Отрицательные числа — всегда не простые.\r\n",
      "\r\n",
      "Границы:\r\n",
      "[отрицательные], -1, 0, 1, [положительные]"
     ]
    }
   ],
   "source": [
    "!cat demo/02-what-inputs-must-be-tested/what_inputs_must_be_tested.txt"
   ]
  },
  {
   "cell_type": "code",
   "execution_count": 9,
   "id": "certified-province",
   "metadata": {},
   "outputs": [
    {
     "name": "stdout",
     "output_type": "stream",
     "text": [
      "error! 1 must not be prime\n"
     ]
    }
   ],
   "source": [
    "if is_prime(1):\n",
    "    print('error! 1 must not be prime')"
   ]
  },
  {
   "cell_type": "code",
   "execution_count": 10,
   "id": "unavailable-compound",
   "metadata": {},
   "outputs": [],
   "source": [
    "def is_prime(number):\n",
    "    if number == 1:\n",
    "        return False\n",
    "\n",
    "    for divisor in range(2, number):\n",
    "        if number % divisor == 0:\n",
    "            return False\n",
    "    return True"
   ]
  },
  {
   "cell_type": "code",
   "execution_count": 11,
   "id": "sealed-treaty",
   "metadata": {},
   "outputs": [],
   "source": [
    "if is_prime(1):\n",
    "    print('error! 1 must not be prime')"
   ]
  },
  {
   "cell_type": "code",
   "execution_count": 12,
   "id": "systematic-effectiveness",
   "metadata": {},
   "outputs": [
    {
     "name": "stdout",
     "output_type": "stream",
     "text": [
      "error! 0 must not be prime\n"
     ]
    }
   ],
   "source": [
    "if is_prime(0):\n",
    "    print('error! 0 must not be prime')"
   ]
  },
  {
   "cell_type": "code",
   "execution_count": 13,
   "id": "exclusive-colony",
   "metadata": {},
   "outputs": [],
   "source": [
    "def is_prime(number):\n",
    "    if number <= 1:\n",
    "        return False\n",
    "\n",
    "    for divisor in range(2, number):\n",
    "        if number % divisor == 0:\n",
    "            return False\n",
    "    return True"
   ]
  },
  {
   "cell_type": "code",
   "execution_count": 16,
   "id": "living-sacrifice",
   "metadata": {},
   "outputs": [
    {
     "name": "stdout",
     "output_type": "stream",
     "text": [
      "-2 ok\n",
      "-1 ok\n",
      "0 ok\n",
      "1 ok\n",
      "2 ok\n",
      "3 ok\n",
      "4 ok\n",
      "5 ok\n",
      "finished testing. 8 passed, 0 failed.\n"
     ]
    }
   ],
   "source": [
    "test_cases = [\n",
    "    (-2, False),\n",
    "    (-1, False),\n",
    "    (0, False),\n",
    "    (1, False),\n",
    "    (2, True),\n",
    "    (3, True),\n",
    "    (4, False),\n",
    "    (5, True),\n",
    "    # ...\n",
    "]\n",
    "\n",
    "failed = 0\n",
    "passed = 0\n",
    "\n",
    "for number, want_result in test_cases:\n",
    "    print(number, end=' ')\n",
    "    got_result = is_prime(number)\n",
    "    if want_result != got_result:\n",
    "        failed += 1\n",
    "        print('error! want {}, got {}'.format(want_result, got_result))\n",
    "    else:\n",
    "        print('ok')\n",
    "        passed += 1\n",
    "\n",
    "print('finished testing. {} passed, {} failed.'.format(passed, failed))"
   ]
  },
  {
   "cell_type": "markdown",
   "id": "hazardous-reliance",
   "metadata": {},
   "source": [
    "## Тестирование в Python"
   ]
  },
  {
   "cell_type": "code",
   "execution_count": 17,
   "id": "daily-closure",
   "metadata": {},
   "outputs": [],
   "source": [
    "assert True"
   ]
  },
  {
   "cell_type": "code",
   "execution_count": 18,
   "id": "subject-palestinian",
   "metadata": {},
   "outputs": [
    {
     "ename": "AssertionError",
     "evalue": "",
     "output_type": "error",
     "traceback": [
      "\u001b[0;31m---------------------------------------------------------------------------\u001b[0m",
      "\u001b[0;31mAssertionError\u001b[0m                            Traceback (most recent call last)",
      "\u001b[0;32m<ipython-input-18-a871fdc9ebee>\u001b[0m in \u001b[0;36m<module>\u001b[0;34m\u001b[0m\n\u001b[0;32m----> 1\u001b[0;31m \u001b[0;32massert\u001b[0m \u001b[0;32mFalse\u001b[0m\u001b[0;34m\u001b[0m\u001b[0;34m\u001b[0m\u001b[0m\n\u001b[0m",
      "\u001b[0;31mAssertionError\u001b[0m: "
     ]
    }
   ],
   "source": [
    "assert False"
   ]
  },
  {
   "cell_type": "code",
   "execution_count": 19,
   "id": "related-hopkins",
   "metadata": {},
   "outputs": [],
   "source": [
    "assert is_prime(5)\n",
    "assert not is_prime(4)"
   ]
  },
  {
   "cell_type": "code",
   "execution_count": 22,
   "id": "developed-submission",
   "metadata": {
    "scrolled": true
   },
   "outputs": [
    {
     "ename": "AssertionError",
     "evalue": "something went wrong",
     "output_type": "error",
     "traceback": [
      "\u001b[0;31m---------------------------------------------------------------------------\u001b[0m",
      "\u001b[0;31mAssertionError\u001b[0m                            Traceback (most recent call last)",
      "\u001b[0;32m<ipython-input-22-4bdd3a18c90e>\u001b[0m in \u001b[0;36m<module>\u001b[0;34m\u001b[0m\n\u001b[0;32m----> 1\u001b[0;31m \u001b[0;32massert\u001b[0m \u001b[0;32mnot\u001b[0m \u001b[0mis_prime\u001b[0m\u001b[0;34m(\u001b[0m\u001b[0;36m5\u001b[0m\u001b[0;34m)\u001b[0m\u001b[0;34m,\u001b[0m \u001b[0;34m'something went wrong'\u001b[0m\u001b[0;34m\u001b[0m\u001b[0;34m\u001b[0m\u001b[0m\n\u001b[0m",
      "\u001b[0;31mAssertionError\u001b[0m: something went wrong"
     ]
    }
   ],
   "source": [
    "assert not is_prime(5), 'something went wrong'"
   ]
  },
  {
   "cell_type": "markdown",
   "id": "voluntary-statistics",
   "metadata": {},
   "source": [
    "## pytest"
   ]
  },
  {
   "cell_type": "code",
   "execution_count": 24,
   "id": "stuck-source",
   "metadata": {
    "scrolled": true
   },
   "outputs": [
    {
     "name": "stdout",
     "output_type": "stream",
     "text": [
      "def is_even(number):\r\n",
      "    return number % 2 == 0"
     ]
    }
   ],
   "source": [
    "!cat demo/03-pytest/even.py"
   ]
  },
  {
   "cell_type": "code",
   "execution_count": 25,
   "id": "generic-chemistry",
   "metadata": {},
   "outputs": [
    {
     "name": "stdout",
     "output_type": "stream",
     "text": [
      "from even import is_even\r\n",
      "\r\n",
      "\r\n",
      "def test_negative_even_numbers_are_even():\r\n",
      "    assert is_even(-2)\r\n",
      "    assert is_even(-4)\r\n",
      "    assert is_even(-6)\r\n",
      "\r\n",
      "\r\n",
      "def test_negative_odd_numbers_are_not_even():\r\n",
      "    assert not is_even(-1)\r\n",
      "    assert not is_even(-3)\r\n",
      "    assert not is_even(-5)\r\n",
      "\r\n",
      "\r\n",
      "def test_zero_is_even():\r\n",
      "    assert is_even(0)\r\n",
      "\r\n",
      "\r\n",
      "def test_even_numbers_are_even():\r\n",
      "    assert is_even(2)\r\n",
      "    assert is_even(4)\r\n",
      "    assert is_even(6)\r\n",
      "\r\n",
      "\r\n",
      "def test_odd_numbers_are_not_even():\r\n",
      "    assert not is_even(1)\r\n",
      "    assert not is_even(3)\r\n",
      "    assert not is_even(5)"
     ]
    }
   ],
   "source": [
    "!cat demo/03-pytest/tests/test_even.py"
   ]
  },
  {
   "cell_type": "code",
   "execution_count": 26,
   "id": "christian-entrepreneur",
   "metadata": {},
   "outputs": [
    {
     "name": "stdout",
     "output_type": "stream",
     "text": [
      "\u001b[1m============================= test session starts ==============================\u001b[0m\n",
      "platform darwin -- Python 3.9.1, pytest-6.2.2, py-1.10.0, pluggy-0.13.1\n",
      "rootdir: /Users/vvkhomutenko/Projects/hexlet/python-testing/demo/03-pytest\n",
      "plugins: cov-2.11.1\n",
      "collected 5 items                                                              \u001b[0m\n",
      "\n",
      "tests/test_even.py \u001b[32m.\u001b[0m\u001b[32m.\u001b[0m\u001b[32m.\u001b[0m\u001b[32m.\u001b[0m\u001b[32m.\u001b[0m\u001b[32m                                                 [100%]\u001b[0m\n",
      "\n",
      "\u001b[32m============================== \u001b[32m\u001b[1m5 passed\u001b[0m\u001b[32m in 0.02s\u001b[0m\u001b[32m ===============================\u001b[0m\n"
     ]
    }
   ],
   "source": [
    "!cd demo/03-pytest && pytest tests"
   ]
  },
  {
   "cell_type": "code",
   "execution_count": 27,
   "id": "seasonal-queens",
   "metadata": {},
   "outputs": [
    {
     "name": "stdout",
     "output_type": "stream",
     "text": [
      "def is_even(number):\r\n",
      "    return number % 2 != 0"
     ]
    }
   ],
   "source": [
    "!cat demo/04-pytest-fail/even.py"
   ]
  },
  {
   "cell_type": "code",
   "execution_count": 28,
   "id": "infectious-glass",
   "metadata": {},
   "outputs": [
    {
     "name": "stdout",
     "output_type": "stream",
     "text": [
      "\u001b[1m============================= test session starts ==============================\u001b[0m\n",
      "platform darwin -- Python 3.9.1, pytest-6.2.2, py-1.10.0, pluggy-0.13.1\n",
      "rootdir: /Users/vvkhomutenko/Projects/hexlet/python-testing/demo/04-pytest-fail\n",
      "plugins: cov-2.11.1\n",
      "collected 5 items                                                              \u001b[0m\n",
      "\n",
      "tests/test_even.py \u001b[31mF\u001b[0m\u001b[31mF\u001b[0m\u001b[31mF\u001b[0m\u001b[31mF\u001b[0m\u001b[31mF\u001b[0m\u001b[31m                                                 [100%]\u001b[0m\n",
      "\n",
      "=================================== FAILURES ===================================\n",
      "\u001b[31m\u001b[1m_____________________ test_negative_even_numbers_are_even ______________________\u001b[0m\n",
      "\n",
      "    \u001b[94mdef\u001b[39;49;00m \u001b[92mtest_negative_even_numbers_are_even\u001b[39;49;00m():\n",
      ">       \u001b[94massert\u001b[39;49;00m is_even(-\u001b[94m2\u001b[39;49;00m)\n",
      "\u001b[1m\u001b[31mE       assert False\u001b[0m\n",
      "\u001b[1m\u001b[31mE        +  where False = is_even(-2)\u001b[0m\n",
      "\n",
      "\u001b[1m\u001b[31mtests/test_even.py\u001b[0m:5: AssertionError\n",
      "\u001b[31m\u001b[1m____________________ test_negative_odd_numbers_are_not_even ____________________\u001b[0m\n",
      "\n",
      "    \u001b[94mdef\u001b[39;49;00m \u001b[92mtest_negative_odd_numbers_are_not_even\u001b[39;49;00m():\n",
      ">       \u001b[94massert\u001b[39;49;00m \u001b[95mnot\u001b[39;49;00m is_even(-\u001b[94m1\u001b[39;49;00m)\n",
      "\u001b[1m\u001b[31mE       assert not True\u001b[0m\n",
      "\u001b[1m\u001b[31mE        +  where True = is_even(-1)\u001b[0m\n",
      "\n",
      "\u001b[1m\u001b[31mtests/test_even.py\u001b[0m:11: AssertionError\n",
      "\u001b[31m\u001b[1m______________________________ test_zero_is_even _______________________________\u001b[0m\n",
      "\n",
      "    \u001b[94mdef\u001b[39;49;00m \u001b[92mtest_zero_is_even\u001b[39;49;00m():\n",
      ">       \u001b[94massert\u001b[39;49;00m is_even(\u001b[94m0\u001b[39;49;00m)\n",
      "\u001b[1m\u001b[31mE       assert False\u001b[0m\n",
      "\u001b[1m\u001b[31mE        +  where False = is_even(0)\u001b[0m\n",
      "\n",
      "\u001b[1m\u001b[31mtests/test_even.py\u001b[0m:17: AssertionError\n",
      "\u001b[31m\u001b[1m__________________________ test_even_numbers_are_even __________________________\u001b[0m\n",
      "\n",
      "    \u001b[94mdef\u001b[39;49;00m \u001b[92mtest_even_numbers_are_even\u001b[39;49;00m():\n",
      ">       \u001b[94massert\u001b[39;49;00m is_even(\u001b[94m2\u001b[39;49;00m)\n",
      "\u001b[1m\u001b[31mE       assert False\u001b[0m\n",
      "\u001b[1m\u001b[31mE        +  where False = is_even(2)\u001b[0m\n",
      "\n",
      "\u001b[1m\u001b[31mtests/test_even.py\u001b[0m:21: AssertionError\n",
      "\u001b[31m\u001b[1m________________________ test_odd_numbers_are_not_even _________________________\u001b[0m\n",
      "\n",
      "    \u001b[94mdef\u001b[39;49;00m \u001b[92mtest_odd_numbers_are_not_even\u001b[39;49;00m():\n",
      ">       \u001b[94massert\u001b[39;49;00m \u001b[95mnot\u001b[39;49;00m is_even(\u001b[94m1\u001b[39;49;00m)\n",
      "\u001b[1m\u001b[31mE       assert not True\u001b[0m\n",
      "\u001b[1m\u001b[31mE        +  where True = is_even(1)\u001b[0m\n",
      "\n",
      "\u001b[1m\u001b[31mtests/test_even.py\u001b[0m:27: AssertionError\n",
      "=========================== short test summary info ============================\n",
      "FAILED tests/test_even.py::test_negative_even_numbers_are_even - assert False\n",
      "FAILED tests/test_even.py::test_negative_odd_numbers_are_not_even - assert no...\n",
      "FAILED tests/test_even.py::test_zero_is_even - assert False\n",
      "FAILED tests/test_even.py::test_even_numbers_are_even - assert False\n",
      "FAILED tests/test_even.py::test_odd_numbers_are_not_even - assert not True\n",
      "\u001b[31m============================== \u001b[31m\u001b[1m5 failed\u001b[0m\u001b[31m in 0.16s\u001b[0m\u001b[31m ===============================\u001b[0m\n"
     ]
    }
   ],
   "source": [
    "!cd demo/04-pytest-fail && pytest tests"
   ]
  },
  {
   "cell_type": "markdown",
   "id": "effective-globe",
   "metadata": {},
   "source": [
    "## Полезные функции\n",
    "* [Фикстуры](https://docs.pytest.org/en/stable/fixture.html)\n",
    "* [mark.parametrize](https://docs.pytest.org/en/stable/parametrize.html)\n",
    "* [pytest.raises](https://docs.pytest.org/en/stable/reference.html#pytest-raises)"
   ]
  },
  {
   "cell_type": "markdown",
   "id": "individual-wisdom",
   "metadata": {},
   "source": [
    "## Code coverage"
   ]
  },
  {
   "cell_type": "markdown",
   "id": "flush-classroom",
   "metadata": {},
   "source": [
    "Метрика позволяет увидеть, что мы забыли протестировать какой-то код."
   ]
  },
  {
   "cell_type": "code",
   "execution_count": 29,
   "id": "electoral-emphasis",
   "metadata": {
    "scrolled": true
   },
   "outputs": [
    {
     "name": "stdout",
     "output_type": "stream",
     "text": [
      "def is_prime(number):\r\n",
      "    for divider in range(2, number):\r\n",
      "        if number % divider == 0:\r\n",
      "            return False\r\n",
      "    return True"
     ]
    }
   ],
   "source": [
    "!cat demo/05-coverage/prime.py"
   ]
  },
  {
   "cell_type": "code",
   "execution_count": 30,
   "id": "together-adaptation",
   "metadata": {},
   "outputs": [
    {
     "name": "stdout",
     "output_type": "stream",
     "text": [
      "from prime import is_prime\r\n",
      "\r\n",
      "\r\n",
      "def test_prime():\r\n",
      "    assert is_prime(5)"
     ]
    }
   ],
   "source": [
    "!cat demo/05-coverage/tests/test_prime.py"
   ]
  },
  {
   "cell_type": "code",
   "execution_count": 31,
   "id": "trying-working",
   "metadata": {},
   "outputs": [
    {
     "name": "stdout",
     "output_type": "stream",
     "text": [
      "\u001b[1m============================= test session starts ==============================\u001b[0m\n",
      "platform darwin -- Python 3.9.1, pytest-6.2.2, py-1.10.0, pluggy-0.13.1\n",
      "rootdir: /Users/vvkhomutenko/Projects/hexlet/python-testing/demo/05-coverage\n",
      "plugins: cov-2.11.1\n",
      "collected 1 item                                                               \u001b[0m\n",
      "\n",
      "tests/test_prime.py \u001b[32m.\u001b[0m\u001b[32m                                                    [100%]\u001b[0m\n",
      "\n",
      "\u001b[32m============================== \u001b[32m\u001b[1m1 passed\u001b[0m\u001b[32m in 0.03s\u001b[0m\u001b[32m ===============================\u001b[0m\n"
     ]
    }
   ],
   "source": [
    "!cd demo/05-coverage && coverage run --source=.  -m pytest tests"
   ]
  },
  {
   "cell_type": "code",
   "execution_count": 33,
   "id": "sapphire-shannon",
   "metadata": {},
   "outputs": [
    {
     "name": "stdout",
     "output_type": "stream",
     "text": [
      "\u001b[1m\u001b[36m.\u001b[m\u001b[m             .coverage     \u001b[1m\u001b[36m__pycache__\u001b[m\u001b[m   \u001b[1m\u001b[36mhtmlcov\u001b[m\u001b[m       \u001b[1m\u001b[36mtests\u001b[m\u001b[m\r\n",
      "\u001b[1m\u001b[36m..\u001b[m\u001b[m            \u001b[1m\u001b[36m.pytest_cache\u001b[m\u001b[m \u001b[1m\u001b[36mfull_tests\u001b[m\u001b[m    prime.py\r\n"
     ]
    }
   ],
   "source": [
    "!ls -a demo/05-coverage"
   ]
  },
  {
   "cell_type": "code",
   "execution_count": 34,
   "id": "electronic-brush",
   "metadata": {},
   "outputs": [
    {
     "name": "stdout",
     "output_type": "stream",
     "text": [
      "Name                  Stmts   Miss  Cover   Missing\r\n",
      "---------------------------------------------------\r\n",
      "prime.py                  5      1    80%   4\r\n",
      "tests/test_prime.py       3      0   100%\r\n",
      "---------------------------------------------------\r\n",
      "TOTAL                     8      1    88%\r\n"
     ]
    }
   ],
   "source": [
    "!cd demo/05-coverage && coverage report -m"
   ]
  },
  {
   "cell_type": "code",
   "execution_count": 35,
   "id": "reflected-sullivan",
   "metadata": {
    "scrolled": true
   },
   "outputs": [
    {
     "name": "stdout",
     "output_type": "stream",
     "text": [
      "coverage_html.js                   jquery.tablesorter.min.js\r\n",
      "favicon_32.png                     keybd_closed.png\r\n",
      "index.html                         keybd_open.png\r\n",
      "jquery.ba-throttle-debounce.min.js prime_py.html\r\n",
      "jquery.hotkeys.js                  status.json\r\n",
      "jquery.isonscreen.js               style.css\r\n",
      "jquery.min.js                      tests_test_prime_py.html\r\n"
     ]
    }
   ],
   "source": [
    "!cd demo/05-coverage && coverage html && ls htmlcov"
   ]
  },
  {
   "cell_type": "code",
   "execution_count": 36,
   "id": "excessive-berkeley",
   "metadata": {},
   "outputs": [
    {
     "name": "stdout",
     "output_type": "stream",
     "text": [
      "from prime import is_prime\r\n",
      "\r\n",
      "\r\n",
      "def test_prime():\r\n",
      "    assert is_prime(5)\r\n",
      "    assert not is_prime(4)\r\n"
     ]
    }
   ],
   "source": [
    "!cat demo/05-coverage/full_tests/test_prime.py"
   ]
  },
  {
   "cell_type": "code",
   "execution_count": 37,
   "id": "ready-senegal",
   "metadata": {},
   "outputs": [
    {
     "name": "stdout",
     "output_type": "stream",
     "text": [
      "\u001b[1m============================= test session starts ==============================\u001b[0m\n",
      "platform darwin -- Python 3.9.1, pytest-6.2.2, py-1.10.0, pluggy-0.13.1\n",
      "rootdir: /Users/vvkhomutenko/Projects/hexlet/python-testing/demo/05-coverage\n",
      "plugins: cov-2.11.1\n",
      "collected 1 item                                                               \u001b[0m\n",
      "\n",
      "full_tests/test_prime.py \u001b[32m.\u001b[0m\u001b[32m                                               [100%]\u001b[0m\n",
      "\n",
      "\u001b[32m============================== \u001b[32m\u001b[1m1 passed\u001b[0m\u001b[32m in 0.03s\u001b[0m\u001b[32m ===============================\u001b[0m\n"
     ]
    }
   ],
   "source": [
    "!cd demo/05-coverage && coverage run --source=.  -m pytest full_tests"
   ]
  },
  {
   "cell_type": "code",
   "execution_count": 38,
   "id": "pleasant-hypothesis",
   "metadata": {},
   "outputs": [
    {
     "name": "stdout",
     "output_type": "stream",
     "text": [
      "Name                       Stmts   Miss  Cover   Missing\r\n",
      "--------------------------------------------------------\r\n",
      "full_tests/test_prime.py       4      0   100%\r\n",
      "prime.py                       5      0   100%\r\n",
      "--------------------------------------------------------\r\n",
      "TOTAL                          9      0   100%\r\n"
     ]
    }
   ],
   "source": [
    "!cd demo/05-coverage && coverage report -m"
   ]
  },
  {
   "cell_type": "markdown",
   "id": "spare-railway",
   "metadata": {},
   "source": [
    "[pytest-cov](https://pytest-cov.readthedocs.io)"
   ]
  },
  {
   "cell_type": "markdown",
   "id": "herbal-chocolate",
   "metadata": {},
   "source": [
    "## Высокий Coverage не гарантирует отсуствие багов\n",
    "\n",
    "Ничего не гарантирует в принципе :) "
   ]
  },
  {
   "cell_type": "markdown",
   "id": "useful-collar",
   "metadata": {},
   "source": [
    "# Уровни тестирования\n",
    "\n",
    "* *Юнит-тесты*. Тестируем отдельные независимые кусочки наших программ.\n",
    "* *Функциональные тесты*. Тестируем взаимодействие нескольких компонентов, реализующих вместе какую-то функциональность.\n",
    "* *Интеграционные тесты*. Тестируют всю систему в окружении, которое максимально близко к продакшену.\n",
    "\n",
    "\n",
    "## Что тестировать?\n",
    "Как правило дешевле всего поддерживать функциональные тесты.\n",
    "[Начинаем писать тесты (правильно)](https://ru.hexlet.io/blog/posts/how-to-test-code)"
   ]
  },
  {
   "cell_type": "markdown",
   "id": "eight-zealand",
   "metadata": {},
   "source": [
    "# TDD\n",
    "\n",
    "* В широком смысле — «пишем тесты до кода»\n",
    "* В узком смысле — конкретная методолгия написания кода."
   ]
  },
  {
   "cell_type": "code",
   "execution_count": 39,
   "id": "defensive-found",
   "metadata": {},
   "outputs": [],
   "source": [
    "def is_prime(number):\n",
    "    return True"
   ]
  },
  {
   "cell_type": "code",
   "execution_count": 40,
   "id": "violent-network",
   "metadata": {},
   "outputs": [
    {
     "ename": "AssertionError",
     "evalue": "",
     "output_type": "error",
     "traceback": [
      "\u001b[0;31m---------------------------------------------------------------------------\u001b[0m",
      "\u001b[0;31mAssertionError\u001b[0m                            Traceback (most recent call last)",
      "\u001b[0;32m<ipython-input-40-11188b317c5a>\u001b[0m in \u001b[0;36m<module>\u001b[0;34m\u001b[0m\n\u001b[0;32m----> 1\u001b[0;31m \u001b[0;32massert\u001b[0m \u001b[0;32mnot\u001b[0m \u001b[0mis_prime\u001b[0m\u001b[0;34m(\u001b[0m\u001b[0;34m-\u001b[0m\u001b[0;36m1\u001b[0m\u001b[0;34m)\u001b[0m\u001b[0;34m\u001b[0m\u001b[0;34m\u001b[0m\u001b[0m\n\u001b[0m",
      "\u001b[0;31mAssertionError\u001b[0m: "
     ]
    }
   ],
   "source": [
    "assert not is_prime(-1)"
   ]
  },
  {
   "cell_type": "code",
   "execution_count": 41,
   "id": "recreational-minister",
   "metadata": {},
   "outputs": [],
   "source": [
    "def is_prime(number):\n",
    "    return False"
   ]
  },
  {
   "cell_type": "code",
   "execution_count": 46,
   "id": "driven-password",
   "metadata": {},
   "outputs": [],
   "source": [
    "assert not is_prime(-1)"
   ]
  },
  {
   "cell_type": "code",
   "execution_count": 47,
   "id": "built-psychiatry",
   "metadata": {},
   "outputs": [],
   "source": [
    "assert not is_prime(0)\n",
    "assert not is_prime(1)"
   ]
  },
  {
   "cell_type": "code",
   "execution_count": 48,
   "id": "historical-talent",
   "metadata": {},
   "outputs": [],
   "source": [
    "assert is_prime(2)"
   ]
  },
  {
   "cell_type": "code",
   "execution_count": 45,
   "id": "dental-spencer",
   "metadata": {},
   "outputs": [],
   "source": [
    "def is_prime(number):\n",
    "    if number <= 1:\n",
    "        return False\n",
    "    return True"
   ]
  },
  {
   "cell_type": "code",
   "execution_count": 49,
   "id": "instructional-orientation",
   "metadata": {},
   "outputs": [],
   "source": [
    "assert is_prime(3)"
   ]
  },
  {
   "cell_type": "code",
   "execution_count": 52,
   "id": "recovered-debate",
   "metadata": {},
   "outputs": [],
   "source": [
    "assert not is_prime(4)"
   ]
  },
  {
   "cell_type": "code",
   "execution_count": 51,
   "id": "creative-compression",
   "metadata": {},
   "outputs": [],
   "source": [
    "def is_prime(number):\n",
    "    if number <= 1:\n",
    "        return False\n",
    "    for divider in range(2, number):\n",
    "        if number % 2 == 0:\n",
    "            return False\n",
    "    return True"
   ]
  },
  {
   "cell_type": "markdown",
   "id": "hungry-subscription",
   "metadata": {},
   "source": [
    "TDD от К. Бека"
   ]
  }
 ],
 "metadata": {
  "kernelspec": {
   "display_name": "Python 3",
   "language": "python",
   "name": "python3"
  },
  "language_info": {
   "codemirror_mode": {
    "name": "ipython",
    "version": 3
   },
   "file_extension": ".py",
   "mimetype": "text/x-python",
   "name": "python",
   "nbconvert_exporter": "python",
   "pygments_lexer": "ipython3",
   "version": "3.9.1"
  }
 },
 "nbformat": 4,
 "nbformat_minor": 5
}
